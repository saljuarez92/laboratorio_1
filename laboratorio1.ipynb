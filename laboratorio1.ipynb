{
 "cells": [
  {
   "cell_type": "markdown",
   "id": "2d7d7afa-54d9-48a2-9fb7-abfca177e24c",
   "metadata": {},
   "source": [
    "# Ejercicio No 1"
   ]
  },
  {
   "cell_type": "markdown",
   "id": "9db67e6e-62a0-4474-aff9-9c51d006f505",
   "metadata": {},
   "source": [
    "### Haga un programa en Python que reciba de parámetro un número de segundos y que despliegue en pantalla, las horas, minutos y segundos que representan. Por ejemplo:Si el número de segundos recibidos fuera: 2743 entonces su programa deberıa desplegar: Horas: 0, Minutos: 45 , Segundos: 43 \n",
    "Si el número de segundos recibidos fuera 5871: Horas: 1, Minutos: 37 , Segundos: 51\n",
    "\n"
   ]
  },
  {
   "cell_type": "code",
   "execution_count": 7,
   "id": "2e856448-1921-4fee-849d-d296b848a581",
   "metadata": {},
   "outputs": [
    {
     "name": "stdin",
     "output_type": "stream",
     "text": [
      "Introduce el numero de segundos:  0\n"
     ]
    },
    {
     "name": "stdout",
     "output_type": "stream",
     "text": [
      "Error: el número de segundos debe ser positivo o mayor a 0\n"
     ]
    }
   ],
   "source": [
    "def convertir_segundos(segundos):\n",
    "    if segundos <= 0:\n",
    "        print(\"Error: el número de segundos debe ser positivo o mayor a 0\")\n",
    "        return\n",
    "\n",
    "    try:\n",
    "        horas = segundos // 3600\n",
    "        segundos_restantes = segundos % 3600\n",
    "        minutos = segundos_restantes // 60\n",
    "        segundos_finales = segundos_restantes % 60\n",
    "\n",
    "        print(\"Horas: \", horas)\n",
    "        print(\"Minutos: \", minutos)\n",
    "        print(\"Segundos: \", segundos_finales)\n",
    "    except ValueError:\n",
    "        print(\"Error: el valor introducido no es un número entero.\")\n",
    "\n",
    "try:\n",
    "    segundos = int(input(\"Introduce el numero de segundos: \"))\n",
    "    convertir_segundos(segundos)\n",
    "except ValueError:\n",
    "    print(\"Error: el valor introducido no es un numero entero\")\n",
    "\n"
   ]
  },
  {
   "cell_type": "markdown",
   "id": "9c32a140-e4ed-4709-82fd-f4ddcaa9dbc5",
   "metadata": {},
   "source": [
    "# Ejercicio No 2"
   ]
  },
  {
   "cell_type": "markdown",
   "id": "bbeab9bb-7511-4701-8dfe-3e979f77b908",
   "metadata": {},
   "source": [
    "### Haga una función en Python que da un número entre 1 y 20. Y un carácter cualquiera despliegue cuatro patrones triangulares."
   ]
  },
  {
   "cell_type": "code",
   "execution_count": 41,
   "id": "e6b8a8a5-3686-4569-a2ea-bf3889bddf88",
   "metadata": {},
   "outputs": [
    {
     "name": "stdin",
     "output_type": "stream",
     "text": [
      "Ingrese un número entre 1 y 20:  4\n",
      "Ingrese un caracter:  *\n"
     ]
    },
    {
     "name": "stdout",
     "output_type": "stream",
     "text": [
      "* **** ****     *\n",
      "** *** ***    **\n",
      "*** ** **   ***\n",
      "**** * *  ****\n"
     ]
    }
   ],
   "source": [
    "def patrones():\n",
    "    numero = int(input(\"Ingrese un numero entre 1 y 20: \"))\n",
    "    caracter = input(\"Ingrese un caracter: \")\n",
    "    for i in range(1, numero+1):\n",
    "      \n",
    "        for j in range(i):\n",
    "            print(caracter, end=\"\")\n",
    "        print(\" \", end=\"\")\n",
    "        \n",
    "       \n",
    "        for j in range(i-4, 0, -1):\n",
    "            print(\" \", end=\"\")\n",
    "        for j in range(numero-i+1):\n",
    "            print(caracter, end=\"\")\n",
    "        print(\" \", end=\"\")\n",
    "        \n",
    "        \n",
    "        for j in range(i-4, 0, -1):\n",
    "            print(\" \", end=\"\")\n",
    "        for j in range(numero-i+1):\n",
    "            print(caracter, end=\"\")\n",
    "        print(\" \", end=\"\")\n",
    "        \n",
    "  \n",
    "        for j in range(numero-i+1):\n",
    "            print(\" \", end=\"\")\n",
    "        for j in range(i, 0, -1):\n",
    "            print(caracter, end=\"\")\n",
    "        print()\n",
    "\n",
    "patrones()\n",
    "\n",
    "\n",
    "\n",
    "\n",
    "\n"
   ]
  },
  {
   "cell_type": "markdown",
   "id": "fe5f4690-1092-4acc-ba5c-b3751da25826",
   "metadata": {},
   "source": [
    "# Ejercicio 3"
   ]
  },
  {
   "cell_type": "markdown",
   "id": "19400da9-59d1-4263-81fb-dc60f6d5f7f0",
   "metadata": {},
   "source": [
    "### Haga un programa en Python que la fecha de nacimiento de una persona (puede ingresar por separado cada valor, es decir pedir primero dıa, luego mes y luego ano), despliegue la edad de la persona en an˜os, meses y dıas. Su resultado puede ser aproximado.\n"
   ]
  },
  {
   "cell_type": "code",
   "execution_count": 43,
   "id": "6b43fa73-466d-4e40-8261-df5f388cedb9",
   "metadata": {},
   "outputs": [
    {
     "name": "stdin",
     "output_type": "stream",
     "text": [
      "Ingrese su fecha de nacimiento en formato DD/MM/AAAA:  28/04/1992\n"
     ]
    },
    {
     "name": "stdout",
     "output_type": "stream",
     "text": [
      "Su edad es: 30 años, 10 meses y 18 días\n"
     ]
    }
   ],
   "source": [
    "import datetime\n",
    "\n",
    "\n",
    "fecha_nacimiento = input(\"Ingrese su fecha de nacimiento en formato DD/MM/AAAA: \")\n",
    "fecha_nacimiento = datetime.datetime.strptime(fecha_nacimiento, \"%d/%m/%Y\").date()\n",
    "\n",
    "diferencia = datetime.date.today() - fecha_nacimiento\n",
    "\n",
    "edad_anos = int(diferencia.days / 365)\n",
    "edad_meses = int((diferencia.days % 365) / 30)\n",
    "edad_dias = int((diferencia.days % 365) % 30)\n",
    "\n",
    "\n",
    "print(\"Su edad es: {} años, {} meses y {} días\".format(edad_anos, edad_meses, edad_dias))\n"
   ]
  },
  {
   "cell_type": "markdown",
   "id": "7ee85132-86a6-4e01-9145-c37cf9c86e05",
   "metadata": {},
   "source": [
    "# Ejercicio 4"
   ]
  },
  {
   "cell_type": "markdown",
   "id": "45559b3f-b58d-46e1-bbb3-9a2d42b8c7cb",
   "metadata": {},
   "source": [
    "### Escriba una función en Python que dada una tupla de elementos (números o letras) esta se convierta a un string. Tomar nota del siguiente ejemplo: Si la entrada fuera: (10, 20, 40, 5, 70) La salida deberıa ser: 102040570\n"
   ]
  },
  {
   "cell_type": "code",
   "execution_count": 55,
   "id": "94a2f9cd-e9b5-4ad3-b0bc-b71fde37fbe0",
   "metadata": {},
   "outputs": [
    {
     "name": "stdin",
     "output_type": "stream",
     "text": [
      "Ingrese una tupla  5,5\n"
     ]
    },
    {
     "name": "stdout",
     "output_type": "stream",
     "text": [
      "El resultado es: 55\n"
     ]
    }
   ],
   "source": [
    "def tupla_1(tupla):\n",
    "    \n",
    "    str_tupla = [str(elemento) for elemento in tupla]\n",
    "\n",
    "    str_resultado = \"\".join(str_tupla)\n",
    "    return str_resultado\n",
    "\n",
    "tupla = tuple(input(\"Ingrese una tupla \").split(\",\"))\n",
    "\n",
    "resultado = tupla_1(tupla)\n",
    "print(\"El resultado es:\", resultado)\n",
    "\n"
   ]
  },
  {
   "cell_type": "markdown",
   "id": "f9b04044-9dc4-4c39-9b3c-1bb5bcad75a7",
   "metadata": {},
   "source": [
    "# Ejercicio 5"
   ]
  },
  {
   "cell_type": "markdown",
   "id": "7ce05ca8-f030-4ef0-8f29-fb66f97f7840",
   "metadata": {},
   "source": [
    "### Cree un programa en Python que dada una lista de tuplas, elimine las tuplas que est´an vac´ıas. Tomar nota del siguiente ejemplo: Si la lista fuera: [(), (), ('X',), ('a', 'b'), ('a', 'b', 'c'), ('d')]]El resultado deber´ıa ser: [(’X’), (’a’, ’b’), (’a’, ’b’, ’c’), ’d’]\n"
   ]
  },
  {
   "cell_type": "code",
   "execution_count": 61,
   "id": "0377c03c-9f25-4f4d-9344-0b5f3f7e6186",
   "metadata": {},
   "outputs": [
    {
     "name": "stdin",
     "output_type": "stream",
     "text": [
      "Ingrese las tuplas  [(), (), ('X',), ('a', 'b'), ('a', 'b', 'c'), ('d')]\n"
     ]
    },
    {
     "name": "stdout",
     "output_type": "stream",
     "text": [
      "[('X',), ('a', 'b'), ('a', 'b', 'c'), 'd']\n"
     ]
    }
   ],
   "source": [
    "def eliminar_tuplas_vacias(lista):\n",
    "    lista_filtrada = [tupla for tupla in lista if tupla]\n",
    "    return lista_filtrada\n",
    "\n",
    "entrada = input(\"Ingrese las tuplas\")\n",
    "lista = eval(entrada)\n",
    "\n",
    "lista_filtrada = eliminar_tuplas_vacias(lista)\n",
    "\n",
    "print(lista_filtrada)\n"
   ]
  },
  {
   "cell_type": "markdown",
   "id": "70f19565-0c34-43fd-9134-140879f7e9a2",
   "metadata": {},
   "source": [
    "# Ejercicio 6"
   ]
  },
  {
   "cell_type": "markdown",
   "id": "e1e0635c-d9b9-4b96-887d-cd9ff9a1cc80",
   "metadata": {},
   "source": [
    "### . Cree una funci´on en Python que dada una tupla de tuplas con nu´meros, produzca una tupla con el promedio de cada tupla individual"
   ]
  },
  {
   "cell_type": "code",
   "execution_count": 60,
   "id": "1ded7171-f3fd-4750-a3d7-fe7f5c494834",
   "metadata": {},
   "outputs": [
    {
     "name": "stdin",
     "output_type": "stream",
     "text": [
      "Ingrese una tupla ((10, 10, 10, 12), (30, 45, 56, 45), (81, 80, 39, 32))\n"
     ]
    },
    {
     "name": "stdout",
     "output_type": "stream",
     "text": [
      "Los promedios de cada tupla son: (10.5, 44.0, 58.0)\n"
     ]
    }
   ],
   "source": [
    "def promedio_tuplas(tupla_de_tuplas):\n",
    "    promedios = [sum(tupla) / len(tupla) for tupla in tupla_de_tuplas]\n",
    "    return tuple(promedios)\n",
    "\n",
    "\n",
    "tupla_de_tuplas = eval(input(\"Ingrese una tupla\"))\n",
    "\n",
    "\n",
    "promedios = promedio_tuplas(tupla_de_tuplas)\n",
    "print(\"Los promedios de cada tupla son:\", promedios)\n"
   ]
  },
  {
   "cell_type": "code",
   "execution_count": null,
   "id": "9d9bde3e-5e16-4815-b07e-57a64e051c0e",
   "metadata": {},
   "outputs": [],
   "source": []
  }
 ],
 "metadata": {
  "kernelspec": {
   "display_name": "Python 3 (ipykernel)",
   "language": "python",
   "name": "python3"
  },
  "language_info": {
   "codemirror_mode": {
    "name": "ipython",
    "version": 3
   },
   "file_extension": ".py",
   "mimetype": "text/x-python",
   "name": "python",
   "nbconvert_exporter": "python",
   "pygments_lexer": "ipython3",
   "version": "3.9.13"
  }
 },
 "nbformat": 4,
 "nbformat_minor": 5
}
